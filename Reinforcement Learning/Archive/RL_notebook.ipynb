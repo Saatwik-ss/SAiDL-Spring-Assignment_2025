{
 "cells": [
  {
   "cell_type": "markdown",
   "metadata": {},
   "source": [
    "# CARTPLOE ENVIRONMENT"
   ]
  },
  {
   "cell_type": "code",
   "execution_count": 17,
   "metadata": {},
   "outputs": [
    {
     "name": "stdout",
     "output_type": "stream",
     "text": [
      "img-shape- (400, 600, 3)\n",
      "info- {}\n",
      "[-0.00629766 -0.01506557  0.04372303 -0.01138234]\n"
     ]
    }
   ],
   "source": [
    "import gymnasium as gym\n",
    "env = gym.make(\"CartPole-v1\", render_mode=\"rgb_array\")  # Specify render_mode here\n",
    "obs,info = env.reset()  # Reset returns (obs, info) in Gymnasium\n",
    "img = env.render()  # No need to pass render_mode again\n",
    "print(f\"img-shape- {img.shape}\")  # Should print (height, width, 3)\n",
    "print(f\"info- {info}\")\n",
    "print(obs)\n",
    "env.close()"
   ]
  },
  {
   "cell_type": "code",
   "execution_count": 20,
   "metadata": {},
   "outputs": [
    {
     "name": "stdout",
     "output_type": "stream",
     "text": [
      "obs- [ 0.00446666  0.56845206  0.02632407 -0.8491826 ]\n",
      "reward- 1.0\n",
      "terminated- False\n",
      "truncated- False\n",
      "done- False\n",
      "info- {}\n",
      "action space- Discrete(2)\n",
      "observation space- Box([-4.8               -inf -0.41887903        -inf], [4.8               inf 0.41887903        inf], (4,), float32)\n"
     ]
    }
   ],
   "source": [
    "action = 1  # Move right\n",
    "obs, reward, terminated, truncated, info = env.step(action)\n",
    "\n",
    "print(f\"obs- {obs}\")\n",
    "print(f\"reward- {reward}\")\n",
    "print(f\"terminated- {terminated}\")  # True if pole fell or cart went out of bounds\n",
    "print(f\"truncated- {truncated}\")  # True if episode ended due to max steps\n",
    "print(f\"done- {terminated or truncated}\")  # Equivalent to the old \"done\"\n",
    "print(f\"info- {info}\")\n",
    "print(f\"action space- {env.action_space}\")\n",
    "print(f\"observation space- {env.observation_space}\")\n",
    "env.close()"
   ]
  },
  {
   "cell_type": "markdown",
   "metadata": {},
   "source": [
    "# Mujoco Hopper"
   ]
  },
  {
   "cell_type": "code",
   "execution_count": 24,
   "metadata": {},
   "outputs": [
    {
     "name": "stdout",
     "output_type": "stream",
     "text": [
      "img-shape- (480, 480, 3)\n",
      "info- {'x_position': np.float64(-0.003345749345234311), 'z_distance_from_origin': np.float64(0.0018702727734685176)}\n",
      "action space- Box(-1.0, 1.0, (3,), float32)\n",
      "observation space- Box(-inf, inf, (11,), float64)\n",
      "[ 1.25187027e+00 -4.65669768e-03  2.06683575e-03 -4.49126019e-03\n",
      "  1.35963934e-03  2.87639616e-03 -1.96686117e-03  4.99103000e-03\n",
      "  4.07639696e-04 -3.64082786e-04 -1.19585312e-03]\n"
     ]
    }
   ],
   "source": [
    "import gymnasium as gym\n",
    "env = gym.make(\"Hopper-v5\", render_mode=\"rgb_array\")  # Specify render_mode here\n",
    "obs,info = env.reset()  # Reset returns (obs, info) in Gymnasium\n",
    "img = env.render()  # No need to pass render_mode again\n",
    "print(f\"img-shape- {img.shape}\")  # Should print (height, width, 3)\n",
    "print(f\"info- {info}\")\n",
    "print(f\"action space- {env.action_space}\")\n",
    "print(f\"observation space- {env.observation_space}\")\n",
    "print(obs)\n",
    "env.close()"
   ]
  },
  {
   "cell_type": "code",
   "execution_count": null,
   "metadata": {},
   "outputs": [
    {
     "name": "stdout",
     "output_type": "stream",
     "text": [
      "obs- [ 1.25137006e+00 -2.03154330e-03  2.14643145e-03  5.37272300e-04\n",
      "  6.79261298e-03  1.41017240e-01 -1.22638205e-01  6.07012846e-01\n",
      "  1.74389717e-02  1.16659477e+00  1.36286371e+00]\n",
      "reward- 1.0621920178478175\n",
      "terminated- False\n",
      "truncated- False\n",
      "done- False\n",
      "info- {'x_position': np.float64(-0.002736213202451771), 'z_distance_from_origin': np.float64(0.0013700629368331718), 'x_velocity': np.float64(0.07619201784781751), 'reward_forward': np.float64(0.07619201784781751), 'reward_ctrl': np.float64(-0.014), 'reward_survive': 1.0}\n",
      "action space- Box(-1.0, 1.0, (3,), float32)\n",
      "observation space- Box(-inf, inf, (11,), float64)\n"
     ]
    }
   ],
   "source": [
    "action = (1,2,3) \n",
    "obs, reward, terminated, truncated, info = env.step(action)\n",
    "\n",
    "print(f\"obs- {obs}\")\n",
    "print(f\"reward- {reward}\")\n",
    "print(f\"terminated- {terminated}\") \n",
    "print(f\"truncated- {truncated}\")\n",
    "print(f\"done- {terminated or truncated}\")\n",
    "print(f\"info- {info}\")\n",
    "print(f\"action space- {env.action_space}\")\n",
    "print(f\"observation space- {env.observation_space}\")\n",
    "env.close()"
   ]
  },
  {
   "cell_type": "code",
   "execution_count": null,
   "metadata": {},
   "outputs": [],
   "source": []
  }
 ],
 "metadata": {
  "kernelspec": {
   "display_name": "Python 3",
   "language": "python",
   "name": "python3"
  },
  "language_info": {
   "codemirror_mode": {
    "name": "ipython",
    "version": 3
   },
   "file_extension": ".py",
   "mimetype": "text/x-python",
   "name": "python",
   "nbconvert_exporter": "python",
   "pygments_lexer": "ipython3",
   "version": "3.12.8"
  }
 },
 "nbformat": 4,
 "nbformat_minor": 2
}
